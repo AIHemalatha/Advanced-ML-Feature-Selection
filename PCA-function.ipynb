{
 "cells": [
  {
   "cell_type": "code",
   "execution_count": 1,
   "id": "a7950c8b-2175-411e-b1ae-52261c091658",
   "metadata": {},
   "outputs": [],
   "source": [
    "# Importing the libraries\n",
    "import numpy as np\n",
    "import matplotlib.pyplot as plt\n",
    "import pandas as pd"
   ]
  },
  {
   "cell_type": "code",
   "execution_count": 2,
   "id": "8c4caea6-e3b8-4782-ad06-c1adcd5b8d9e",
   "metadata": {},
   "outputs": [],
   "source": [
    "# Applying PCA\n",
    "from sklearn.decomposition import PCA\n",
    "def apply_pca(X_train,X_test,n_components=2):  \n",
    "    pca = PCA(n_components=n_components)\n",
    "    X_train_pca = pca.fit_transform(X_train)\n",
    "    X_test_pca = pca.transform(X_test)\n",
    "\n",
    "    columns = [f'PC{i+1}' for i in range(n_components)]\n",
    "    X_train_pca_df = pd.DataFrame(X_train_pca, columns=columns)\n",
    "    X_test_pca_df = pd.DataFrame(X_test_pca, columns=columns)\n",
    "\n",
    "    return X_train_pca_df, X_test_pca_df, pca"
   ]
  },
  {
   "cell_type": "code",
   "execution_count": 3,
   "id": "1b234fa9-cc01-49e8-acf1-b31b68bd7d0a",
   "metadata": {},
   "outputs": [],
   "source": [
    "def split_scalar(indep_X,dep_Y):\n",
    "        X_train, X_test, y_train, y_test = train_test_split(indep_X, dep_Y, test_size = 0.25, random_state = 0)\n",
    "        sc = StandardScaler()\n",
    "        X_train = sc.fit_transform(X_train)\n",
    "        X_test = sc.transform(X_test)    \n",
    "        return X_train, X_test, y_train, y_test"
   ]
  },
  {
   "cell_type": "code",
   "execution_count": 4,
   "id": "5233a992-7bbd-41d9-b50f-e1376c550c0c",
   "metadata": {},
   "outputs": [],
   "source": [
    "def r2_prediction(regressor,X_test,y_test):\n",
    "     y_pred = regressor.predict(X_test)\n",
    "     from sklearn.metrics import r2_score\n",
    "     r2=r2_score(y_test,y_pred)\n",
    "     return r2"
   ]
  },
  {
   "cell_type": "code",
   "execution_count": 5,
   "id": "eb8edfdd-cd80-4060-a3cb-01b7ffbad331",
   "metadata": {},
   "outputs": [],
   "source": [
    "def Linear(X_train, y_train, X_test, y_test):\n",
    "    from sklearn.linear_model import LinearRegression\n",
    "    from sklearn.metrics import r2_score\n",
    "    \n",
    "    model = LinearRegression()\n",
    "    model.fit(X_train, y_train)\n",
    "    y_pred = model.predict(X_test)\n",
    "    \n",
    "    return r2_score(y_test, y_pred)"
   ]
  },
  {
   "cell_type": "code",
   "execution_count": 6,
   "id": "c65c3b9a-fb5b-4b54-bba5-dc56c9f7a588",
   "metadata": {},
   "outputs": [],
   "source": [
    "from sklearn.svm import SVR\n",
    "from sklearn.metrics import r2_score\n",
    "\n",
    "def svm_linear(X_train, y_train, X_test, y_test):\n",
    "    model = SVR(kernel='linear')\n",
    "    model.fit(X_train, y_train)\n",
    "    y_pred = model.predict(X_test)\n",
    "    return r2_score(y_test, y_pred)"
   ]
  },
  {
   "cell_type": "code",
   "execution_count": 7,
   "id": "58a8aa42-5df9-473c-b905-72c18a8c7d22",
   "metadata": {},
   "outputs": [],
   "source": [
    "from sklearn.svm import SVR  \n",
    "def svm_NL(X_train, y_train, X_test, y_test):\n",
    "    model = SVR(kernel='rbf')\n",
    "    model.fit(X_train, y_train)\n",
    "    y_pred = model.predict(X_test)\n",
    "    return r2_score(y_test, y_pred)"
   ]
  },
  {
   "cell_type": "code",
   "execution_count": 8,
   "id": "64f56df2-3648-4cd0-884a-6028ccc9739c",
   "metadata": {},
   "outputs": [],
   "source": [
    "from sklearn.tree import DecisionTreeRegressor\n",
    "\n",
    "def Decision(X_train, y_train, X_test, y_test):\n",
    "    model = DecisionTreeRegressor(random_state=0)\n",
    "    model.fit(X_train, y_train)\n",
    "    y_pred = model.predict(X_test)\n",
    "    return r2_score(y_test, y_pred)"
   ]
  },
  {
   "cell_type": "code",
   "execution_count": 9,
   "id": "028b85b2-2721-4c23-aa5e-171cd587fc2a",
   "metadata": {},
   "outputs": [],
   "source": [
    "from sklearn.ensemble import RandomForestRegressor\n",
    "\n",
    "def random(X_train, y_train, X_test, y_test):\n",
    "    model = RandomForestRegressor(n_estimators=100, random_state=0)\n",
    "    model.fit(X_train, y_train)\n",
    "    y_pred = model.predict(X_test)\n",
    "    return r2_score(y_test, y_pred) "
   ]
  },
  {
   "cell_type": "code",
   "execution_count": 10,
   "id": "39376f65-0638-4f45-8bdb-109329fc803d",
   "metadata": {},
   "outputs": [],
   "source": [
    "def pca_regression_results(acclin, accsvml, accsvmnl, accdes, accrf):\n",
    "   \n",
    "    dataframe = pd.DataFrame(index=['PCA'], columns=['Linear', 'SVMl', 'SVMnl', 'Decision', 'Random'])\n",
    "\n",
    "    for number, idex in enumerate(dataframe.index):\n",
    "        dataframe.loc[idex, 'Linear'] = acclin[number]\n",
    "        dataframe.loc[idex, 'SVMl'] = accsvml[number]\n",
    "        dataframe.loc[idex, 'SVMnl'] = accsvmnl[number]\n",
    "        dataframe.loc[idex, 'Decision'] = accdes[number]\n",
    "        dataframe.loc[idex, 'Random'] = accrf[number]\n",
    "\n",
    "    return dataframe"
   ]
  },
  {
   "cell_type": "code",
   "execution_count": 11,
   "id": "2ced3c18-f0c5-4973-a7bd-ec67e4bca199",
   "metadata": {},
   "outputs": [],
   "source": [
    "dataset1=pd.read_csv(\"Wine.csv\",index_col=None)\n",
    "df2=dataset1\n",
    "df2 = pd.get_dummies(df2, drop_first=True)\n",
    "indep_X=df2.drop('Customer_Segment',axis=1)\n",
    "dep_Y=df2['Customer_Segment']\n"
   ]
  },
  {
   "cell_type": "code",
   "execution_count": 28,
   "id": "cb27c1a2-ca82-4dbf-b747-242c800dd822",
   "metadata": {},
   "outputs": [],
   "source": [
    "from sklearn.model_selection import train_test_split\n",
    "from sklearn.preprocessing import StandardScaler\n",
    "\n",
    "# Step 1: Split the data\n",
    "X_train, X_test, y_train, y_test = train_test_split(indep_X, dep_Y, test_size=0.2, random_state=0)\n",
    "\n",
    "# Step 2: Standardize the features\n",
    "scaler = StandardScaler()\n",
    "X_train_scaled = scaler.fit_transform(X_train)\n",
    "X_test_scaled = scaler.transform(X_test)\n",
    "\n",
    "# Step 3: Apply PCA\n",
    "X_train_pca, X_test_pca, pca_model = apply_pca(X_train_scaled, X_test_scaled, n_components=2)\n",
    "\n",
    "# Step 4: Initialize lists for storing model results\n",
    "acclin = []\n",
    "accsvml = []\n",
    "accsvmnl = []\n",
    "accdes = []\n",
    "accrf = []"
   ]
  },
  {
   "cell_type": "code",
   "execution_count": 29,
   "id": "61669baa-a4ec-4787-91e8-2c4b1ce65790",
   "metadata": {},
   "outputs": [],
   "source": [
    "#X_train, X_test, y_train, y_test=split_scalar(pca_model,dep_Y)  \n",
    "#for i in kbest:   \n",
    "r2_lin = Linear(X_train, y_train, X_test, y_test)\n",
    "acclin.append(r2_lin)\n",
    "\n",
    "r2_sl = svm_linear(X_train, y_train, X_test, y_test)\n",
    "accsvml.append(r2_sl)\n",
    "\n",
    "r2_NL = svm_NL(X_train, y_train, X_test, y_test)\n",
    "accsvmnl.append(r2_NL)\n",
    "\n",
    "r2_d = Decision(X_train, y_train, X_test, y_test)\n",
    "accdes.append(r2_d)\n",
    "\n",
    "r2_r = random(X_train, y_train, X_test, y_test)\n",
    "accrf.append(r2_r)"
   ]
  },
  {
   "cell_type": "code",
   "execution_count": 30,
   "id": "20065431-bffd-4880-bd11-9e88137d592b",
   "metadata": {},
   "outputs": [],
   "source": [
    "result=pca_regression_results(acclin,accsvml,accsvmnl,accdes,accrf)"
   ]
  },
  {
   "cell_type": "code",
   "execution_count": 31,
   "id": "2d4c2056-900b-4d80-8f80-3284d25f77bf",
   "metadata": {},
   "outputs": [
    {
     "data": {
      "text/html": [
       "<div>\n",
       "<style scoped>\n",
       "    .dataframe tbody tr th:only-of-type {\n",
       "        vertical-align: middle;\n",
       "    }\n",
       "\n",
       "    .dataframe tbody tr th {\n",
       "        vertical-align: top;\n",
       "    }\n",
       "\n",
       "    .dataframe thead th {\n",
       "        text-align: right;\n",
       "    }\n",
       "</style>\n",
       "<table border=\"1\" class=\"dataframe\">\n",
       "  <thead>\n",
       "    <tr style=\"text-align: right;\">\n",
       "      <th></th>\n",
       "      <th>Linear</th>\n",
       "      <th>SVMl</th>\n",
       "      <th>SVMnl</th>\n",
       "      <th>Decision</th>\n",
       "      <th>Random</th>\n",
       "    </tr>\n",
       "  </thead>\n",
       "  <tbody>\n",
       "    <tr>\n",
       "      <th>PCA</th>\n",
       "      <td>0.764376</td>\n",
       "      <td>0.724484</td>\n",
       "      <td>0.60147</td>\n",
       "      <td>0.835366</td>\n",
       "      <td>0.906148</td>\n",
       "    </tr>\n",
       "  </tbody>\n",
       "</table>\n",
       "</div>"
      ],
      "text/plain": [
       "       Linear      SVMl    SVMnl  Decision    Random\n",
       "PCA  0.764376  0.724484  0.60147  0.835366  0.906148"
      ]
     },
     "execution_count": 31,
     "metadata": {},
     "output_type": "execute_result"
    }
   ],
   "source": [
    "result\n",
    "#2"
   ]
  },
  {
   "cell_type": "code",
   "execution_count": 27,
   "id": "57ba2ef5-6d23-4604-a0d9-4d810f3ca968",
   "metadata": {},
   "outputs": [
    {
     "data": {
      "text/html": [
       "<div>\n",
       "<style scoped>\n",
       "    .dataframe tbody tr th:only-of-type {\n",
       "        vertical-align: middle;\n",
       "    }\n",
       "\n",
       "    .dataframe tbody tr th {\n",
       "        vertical-align: top;\n",
       "    }\n",
       "\n",
       "    .dataframe thead th {\n",
       "        text-align: right;\n",
       "    }\n",
       "</style>\n",
       "<table border=\"1\" class=\"dataframe\">\n",
       "  <thead>\n",
       "    <tr style=\"text-align: right;\">\n",
       "      <th></th>\n",
       "      <th>Linear</th>\n",
       "      <th>SVMl</th>\n",
       "      <th>SVMnl</th>\n",
       "      <th>Decision</th>\n",
       "      <th>Random</th>\n",
       "    </tr>\n",
       "  </thead>\n",
       "  <tbody>\n",
       "    <tr>\n",
       "      <th>PCA</th>\n",
       "      <td>0.764376</td>\n",
       "      <td>0.724484</td>\n",
       "      <td>0.60147</td>\n",
       "      <td>0.835366</td>\n",
       "      <td>0.906148</td>\n",
       "    </tr>\n",
       "  </tbody>\n",
       "</table>\n",
       "</div>"
      ],
      "text/plain": [
       "       Linear      SVMl    SVMnl  Decision    Random\n",
       "PCA  0.764376  0.724484  0.60147  0.835366  0.906148"
      ]
     },
     "execution_count": 27,
     "metadata": {},
     "output_type": "execute_result"
    }
   ],
   "source": [
    "result\n",
    "#3"
   ]
  },
  {
   "cell_type": "code",
   "execution_count": 23,
   "id": "c0b43e44-a697-44f9-bbff-f364a1d1cc71",
   "metadata": {},
   "outputs": [
    {
     "data": {
      "text/html": [
       "<div>\n",
       "<style scoped>\n",
       "    .dataframe tbody tr th:only-of-type {\n",
       "        vertical-align: middle;\n",
       "    }\n",
       "\n",
       "    .dataframe tbody tr th {\n",
       "        vertical-align: top;\n",
       "    }\n",
       "\n",
       "    .dataframe thead th {\n",
       "        text-align: right;\n",
       "    }\n",
       "</style>\n",
       "<table border=\"1\" class=\"dataframe\">\n",
       "  <thead>\n",
       "    <tr style=\"text-align: right;\">\n",
       "      <th></th>\n",
       "      <th>Linear</th>\n",
       "      <th>SVMl</th>\n",
       "      <th>SVMnl</th>\n",
       "      <th>Decision</th>\n",
       "      <th>Random</th>\n",
       "    </tr>\n",
       "  </thead>\n",
       "  <tbody>\n",
       "    <tr>\n",
       "      <th>PCA</th>\n",
       "      <td>0.764376</td>\n",
       "      <td>0.724484</td>\n",
       "      <td>0.60147</td>\n",
       "      <td>0.835366</td>\n",
       "      <td>0.906148</td>\n",
       "    </tr>\n",
       "  </tbody>\n",
       "</table>\n",
       "</div>"
      ],
      "text/plain": [
       "       Linear      SVMl    SVMnl  Decision    Random\n",
       "PCA  0.764376  0.724484  0.60147  0.835366  0.906148"
      ]
     },
     "execution_count": 23,
     "metadata": {},
     "output_type": "execute_result"
    }
   ],
   "source": [
    "result\n",
    "#4"
   ]
  },
  {
   "cell_type": "code",
   "execution_count": 18,
   "id": "5cfa8dd6-0a30-4273-b6dd-7bb519c5311b",
   "metadata": {},
   "outputs": [
    {
     "data": {
      "text/html": [
       "<div>\n",
       "<style scoped>\n",
       "    .dataframe tbody tr th:only-of-type {\n",
       "        vertical-align: middle;\n",
       "    }\n",
       "\n",
       "    .dataframe tbody tr th {\n",
       "        vertical-align: top;\n",
       "    }\n",
       "\n",
       "    .dataframe thead th {\n",
       "        text-align: right;\n",
       "    }\n",
       "</style>\n",
       "<table border=\"1\" class=\"dataframe\">\n",
       "  <thead>\n",
       "    <tr style=\"text-align: right;\">\n",
       "      <th></th>\n",
       "      <th>Linear</th>\n",
       "      <th>SVMl</th>\n",
       "      <th>SVMnl</th>\n",
       "      <th>Decision</th>\n",
       "      <th>Random</th>\n",
       "    </tr>\n",
       "  </thead>\n",
       "  <tbody>\n",
       "    <tr>\n",
       "      <th>PCA</th>\n",
       "      <td>0.764376</td>\n",
       "      <td>0.724484</td>\n",
       "      <td>0.60147</td>\n",
       "      <td>0.835366</td>\n",
       "      <td>0.906148</td>\n",
       "    </tr>\n",
       "  </tbody>\n",
       "</table>\n",
       "</div>"
      ],
      "text/plain": [
       "       Linear      SVMl    SVMnl  Decision    Random\n",
       "PCA  0.764376  0.724484  0.60147  0.835366  0.906148"
      ]
     },
     "execution_count": 18,
     "metadata": {},
     "output_type": "execute_result"
    }
   ],
   "source": [
    "result\n",
    "#10"
   ]
  },
  {
   "cell_type": "code",
   "execution_count": 19,
   "id": "0a065c10-6c3a-4aff-b050-e2d75fe94d85",
   "metadata": {},
   "outputs": [],
   "source": [
    "# here PCA returns same value for all components"
   ]
  },
  {
   "cell_type": "code",
   "execution_count": null,
   "id": "125207ee-c0a7-4c5d-9915-b5b4cd8d782c",
   "metadata": {},
   "outputs": [],
   "source": []
  }
 ],
 "metadata": {
  "kernelspec": {
   "display_name": "Python 3 (ipykernel)",
   "language": "python",
   "name": "python3"
  },
  "language_info": {
   "codemirror_mode": {
    "name": "ipython",
    "version": 3
   },
   "file_extension": ".py",
   "mimetype": "text/x-python",
   "name": "python",
   "nbconvert_exporter": "python",
   "pygments_lexer": "ipython3",
   "version": "3.11.5"
  }
 },
 "nbformat": 4,
 "nbformat_minor": 5
}
